{
  "nbformat": 4,
  "nbformat_minor": 0,
  "metadata": {
    "colab": {
      "provenance": [],
      "mount_file_id": "1WAWnAHg_0ayAwLo0ZFcX7o_lde6Xm3OD",
      "authorship_tag": "ABX9TyPVB+9OKsVHhNeXTEKtbBy1",
      "include_colab_link": true
    },
    "kernelspec": {
      "name": "python3",
      "display_name": "Python 3"
    },
    "language_info": {
      "name": "python"
    }
  },
  "cells": [
    {
      "cell_type": "markdown",
      "metadata": {
        "id": "view-in-github",
        "colab_type": "text"
      },
      "source": [
        "<a href=\"https://colab.research.google.com/github/A-R-TAQI/ml_lab/blob/main/NaiveBayesianClassifier.ipynb\" target=\"_parent\"><img src=\"https://colab.research.google.com/assets/colab-badge.svg\" alt=\"Open In Colab\"/></a>"
      ]
    },
    {
      "cell_type": "code",
      "execution_count": 16,
      "metadata": {
        "colab": {
          "base_uri": "https://localhost:8080/"
        },
        "id": "BPxdyGrP7j1L",
        "outputId": "14b04402-796e-42ff-a631-074e1820e053"
      },
      "outputs": [
        {
          "output_type": "stream",
          "name": "stdout",
          "text": [
            "Total Instances of Dataset:  18\n"
          ]
        }
      ],
      "source": [
        "import pandas as pd\n",
        "msg = pd.read_csv('/content/drive/MyDrive/ml_lab/document.csv', names=['message', 'label'])\n",
        "print(\"Total Instances of Dataset: \", msg.shape[0])\n",
        "msg['labelnum'] = msg.label.map({'pos': 1, 'neg': 0})"
      ]
    },
    {
      "cell_type": "code",
      "source": [
        "X = msg.message\n",
        "y = msg.labelnum"
      ],
      "metadata": {
        "id": "3b7CrozH9bEl"
      },
      "execution_count": 17,
      "outputs": []
    },
    {
      "cell_type": "code",
      "source": [
        "X"
      ],
      "metadata": {
        "colab": {
          "base_uri": "https://localhost:8080/"
        },
        "id": "UMcPeE1_-7XF",
        "outputId": "3b95637a-cc92-4c7c-ccf4-d7d6857fc505"
      },
      "execution_count": 18,
      "outputs": [
        {
          "output_type": "execute_result",
          "data": {
            "text/plain": [
              "0                      I love this sandwich\n",
              "1                  This is an amazing place\n",
              "2        I feel very good about these beers\n",
              "3                      This is my best work\n",
              "4                      What an awesome view\n",
              "5             I do not like this restaurant\n",
              "6                  I am tired of this stuff\n",
              "7                    I can't deal with this\n",
              "8                      He is my sworn enemy\n",
              "9                       My boss is horrible\n",
              "10                 This is an awesome place\n",
              "11    I do not like the taste of this juice\n",
              "12                          I love to dance\n",
              "13        I am sick and tired of this place\n",
              "14                     What a great holiday\n",
              "15           That is a bad locality to stay\n",
              "16           We will have good fun tomorrow\n",
              "17         I went to my enemy's house today\n",
              "Name: message, dtype: object"
            ]
          },
          "metadata": {},
          "execution_count": 18
        }
      ]
    },
    {
      "cell_type": "code",
      "source": [
        "y"
      ],
      "metadata": {
        "colab": {
          "base_uri": "https://localhost:8080/"
        },
        "id": "rQJi94li_FXt",
        "outputId": "7282dcce-bbf7-4e88-b098-e6613094ce65"
      },
      "execution_count": 19,
      "outputs": [
        {
          "output_type": "execute_result",
          "data": {
            "text/plain": [
              "0     1\n",
              "1     1\n",
              "2     1\n",
              "3     1\n",
              "4     1\n",
              "5     0\n",
              "6     0\n",
              "7     0\n",
              "8     0\n",
              "9     0\n",
              "10    1\n",
              "11    0\n",
              "12    1\n",
              "13    0\n",
              "14    1\n",
              "15    0\n",
              "16    1\n",
              "17    0\n",
              "Name: labelnum, dtype: int64"
            ]
          },
          "metadata": {},
          "execution_count": 19
        }
      ]
    },
    {
      "cell_type": "code",
      "source": [
        "from sklearn.model_selection import train_test_split\n",
        "Xtrain, Xtest, ytrain, ytest = train_test_split(X, y)"
      ],
      "metadata": {
        "id": "2-2OBKUd9bB9"
      },
      "execution_count": 20,
      "outputs": []
    },
    {
      "cell_type": "code",
      "source": [
        "from sklearn.feature_extraction.text import CountVectorizer\n",
        "\n",
        "count_v = CountVectorizer()\n",
        "Xtrain_dm = count_v.fit_transform(Xtrain)\n",
        "Xtest_dm = count_v.transform(Xtest)"
      ],
      "metadata": {
        "id": "kinaqoNj9ak1"
      },
      "execution_count": 21,
      "outputs": []
    },
    {
      "cell_type": "code",
      "source": [
        "df = pd.DataFrame(Xtrain_dm.toarray(),columns=count_v.get_feature_names_out())\n",
        "print(df[0:5])"
      ],
      "metadata": {
        "colab": {
          "base_uri": "https://localhost:8080/"
        },
        "id": "m3I8Ia1E9ah-",
        "outputId": "43a08036-3b25-4595-df92-9b32b32ba0d5"
      },
      "execution_count": 22,
      "outputs": [
        {
          "output_type": "stream",
          "name": "stdout",
          "text": [
            "   about  am  an  awesome  bad  beers  boss  can  dance  deal  ...  to  today  \\\n",
            "0      0   0   0        0    0      0     1    0      0     0  ...   0      0   \n",
            "1      0   0   0        0    1      0     0    0      0     0  ...   1      0   \n",
            "2      0   0   0        0    0      0     0    1      0     1  ...   0      0   \n",
            "3      0   0   0        0    0      0     0    0      0     0  ...   0      0   \n",
            "4      0   0   1        1    0      0     0    0      0     0  ...   0      0   \n",
            "\n",
            "   tomorrow  very  view  we  went  what  will  with  \n",
            "0         0     0     0   0     0     0     0     0  \n",
            "1         0     0     0   0     0     0     0     0  \n",
            "2         0     0     0   0     0     0     0     1  \n",
            "3         1     0     0   1     0     0     1     0  \n",
            "4         0     0     0   0     0     0     0     0  \n",
            "\n",
            "[5 rows x 48 columns]\n"
          ]
        }
      ]
    },
    {
      "cell_type": "code",
      "source": [
        "from sklearn.naive_bayes import MultinomialNB\n",
        "clf = MultinomialNB()\n",
        "clf.fit(Xtrain_dm, ytrain)\n",
        "pred = clf.predict(Xtest_dm)"
      ],
      "metadata": {
        "id": "lHOBNIcL9acv"
      },
      "execution_count": 23,
      "outputs": []
    },
    {
      "cell_type": "code",
      "source": [
        "for doc,p in zip(Xtrain, pred):\n",
        "  p='pos' if p==1 else 'neg'\n",
        "  print(\"%s -> %s\" %(doc,p))"
      ],
      "metadata": {
        "colab": {
          "base_uri": "https://localhost:8080/"
        },
        "id": "VwLrTLRF-KXR",
        "outputId": "73da7f71-d53f-4fc9-8b2f-a3adbf0f484b"
      },
      "execution_count": 24,
      "outputs": [
        {
          "output_type": "stream",
          "name": "stdout",
          "text": [
            "My boss is horrible -> neg\n",
            "That is a bad locality to stay -> neg\n",
            "I can't deal with this -> neg\n",
            "We will have good fun tomorrow -> pos\n",
            "This is an awesome place -> pos\n"
          ]
        }
      ]
    },
    {
      "cell_type": "code",
      "source": [
        "from sklearn.metrics import accuracy_score, confusion_matrix, precision_score, recall_score\n",
        "print('Accuracy Metrics: \\n')\n",
        "print('Accuracy: ', accuracy_score(ytest, pred))\n",
        "print('Recall: ', recall_score(ytest, pred))\n",
        "print('Precision: ', precision_score(ytest, pred))\n",
        "print('Confusion Matrix: \\n', confusion_matrix(ytest, pred))"
      ],
      "metadata": {
        "colab": {
          "base_uri": "https://localhost:8080/"
        },
        "id": "uDnyBfOk-KVM",
        "outputId": "5aec580d-77c3-4854-86a8-10b2406f596e"
      },
      "execution_count": 25,
      "outputs": [
        {
          "output_type": "stream",
          "name": "stdout",
          "text": [
            "Accuracy Metrics: \n",
            "\n",
            "Accuracy:  0.6\n",
            "Recall:  0.5\n",
            "Precision:  1.0\n",
            "Confusion Matrix: \n",
            " [[1 0]\n",
            " [2 2]]\n"
          ]
        }
      ]
    },
    {
      "cell_type": "code",
      "source": [],
      "metadata": {
        "id": "onz99E9U-KSN"
      },
      "execution_count": null,
      "outputs": []
    },
    {
      "cell_type": "code",
      "source": [],
      "metadata": {
        "id": "FGNmJ0xz-KPt"
      },
      "execution_count": null,
      "outputs": []
    }
  ]
}