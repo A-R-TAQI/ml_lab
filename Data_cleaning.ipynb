{
  "nbformat": 4,
  "nbformat_minor": 0,
  "metadata": {
    "colab": {
      "provenance": [],
      "mount_file_id": "1jQtO36J1bSpTZQJO2IE9HM__yGbEdxDC",
      "authorship_tag": "ABX9TyPU2qNc5VqsYqk05xMjXxo3",
      "include_colab_link": true
    },
    "kernelspec": {
      "name": "python3",
      "display_name": "Python 3"
    },
    "language_info": {
      "name": "python"
    }
  },
  "cells": [
    {
      "cell_type": "markdown",
      "metadata": {
        "id": "view-in-github",
        "colab_type": "text"
      },
      "source": [
        "<a href=\"https://colab.research.google.com/github/A-R-TAQI/ml_lab/blob/main/Data_cleaning.ipynb\" target=\"_parent\"><img src=\"https://colab.research.google.com/assets/colab-badge.svg\" alt=\"Open In Colab\"/></a>"
      ]
    },
    {
      "cell_type": "code",
      "execution_count": 2,
      "metadata": {
        "colab": {
          "base_uri": "https://localhost:8080/"
        },
        "id": "Wu-3DHrsgj9X",
        "outputId": "183c5414-aedb-4579-f460-5e50cba59065"
      },
      "outputs": [
        {
          "output_type": "stream",
          "name": "stdout",
          "text": [
            "Original dataset:\n",
            " Col1 Col2  Col3 Col4\n",
            "    1    A     1    D\n",
            "    2    B     2    D\n",
            "    3    C     3    D\n",
            "    4    D     4    D\n",
            "    4    D     4    D\n",
            "    5    E     5    D\n",
            "    6    F     6    D\n",
            "    7    G     7    D\n",
            "    7    G     7    D\n",
            "    8    H     8    D\n",
            "    9    I     9    D\n",
            "   10    J    10    D\n",
            "   10    J    10    D\n",
            "   10    J    10    D\n",
            "   11    K    11    D\n",
            "   12    L    12    D\n",
            "   13    M    13    D\n",
            "   13    M    13    D\n",
            "   14    N    14    D\n",
            "   15    O    15    D\n",
            "   16    P    16    D\n",
            "   17    Q    17    D\n",
            "   18    R    18    D\n",
            "   19    S    19    D\n",
            "   20    T    20    D\n",
            "   20    T    20    D\n",
            "   20    T    20    D\n",
            "   21    U    21    D\n",
            "   22    V    22    D\n",
            "   23    W    23    D\n"
          ]
        }
      ],
      "source": [
        "import pandas as pd\n",
        "dataset = pd.read_csv('/content/drive/MyDrive/ml_lab/dataset.csv')\n",
        "print(\"Original dataset:\")\n",
        "print(dataset.to_string(index=False))"
      ]
    },
    {
      "cell_type": "code",
      "source": [
        "dataset_duplicates_removed = dataset.drop_duplicates()\n",
        "print(\"\\nDataset with duplicate rows removed:\")\n",
        "print(dataset_duplicates_removed.to_string(index=False))"
      ],
      "metadata": {
        "colab": {
          "base_uri": "https://localhost:8080/"
        },
        "id": "SWDPv7iRi6ZL",
        "outputId": "b5e212bb-6617-4699-a267-75e4afcc4367"
      },
      "execution_count": 3,
      "outputs": [
        {
          "output_type": "stream",
          "name": "stdout",
          "text": [
            "\n",
            "Dataset with duplicate rows removed:\n",
            " Col1 Col2  Col3 Col4\n",
            "    1    A     1    D\n",
            "    2    B     2    D\n",
            "    3    C     3    D\n",
            "    4    D     4    D\n",
            "    5    E     5    D\n",
            "    6    F     6    D\n",
            "    7    G     7    D\n",
            "    8    H     8    D\n",
            "    9    I     9    D\n",
            "   10    J    10    D\n",
            "   11    K    11    D\n",
            "   12    L    12    D\n",
            "   13    M    13    D\n",
            "   14    N    14    D\n",
            "   15    O    15    D\n",
            "   16    P    16    D\n",
            "   17    Q    17    D\n",
            "   18    R    18    D\n",
            "   19    S    19    D\n",
            "   20    T    20    D\n",
            "   21    U    21    D\n",
            "   22    V    22    D\n",
            "   23    W    23    D\n"
          ]
        }
      ]
    },
    {
      "cell_type": "code",
      "source": [
        "dataset_columns_removed = dataset_duplicates_removed.loc[:, dataset_duplicates_removed.nunique() > 1]\n",
        "print(\"\\nDataset with columns containing a single value removed:\")\n",
        "print(dataset_columns_removed.to_string(index=False))"
      ],
      "metadata": {
        "colab": {
          "base_uri": "https://localhost:8080/"
        },
        "id": "viHFuaLMi8zy",
        "outputId": "3d33df94-f5e9-4022-cca5-bbd7a7c59a57"
      },
      "execution_count": 4,
      "outputs": [
        {
          "output_type": "stream",
          "name": "stdout",
          "text": [
            "\n",
            "Dataset with columns containing a single value removed:\n",
            " Col1 Col2  Col3\n",
            "    1    A     1\n",
            "    2    B     2\n",
            "    3    C     3\n",
            "    4    D     4\n",
            "    5    E     5\n",
            "    6    F     6\n",
            "    7    G     7\n",
            "    8    H     8\n",
            "    9    I     9\n",
            "   10    J    10\n",
            "   11    K    11\n",
            "   12    L    12\n",
            "   13    M    13\n",
            "   14    N    14\n",
            "   15    O    15\n",
            "   16    P    16\n",
            "   17    Q    17\n",
            "   18    R    18\n",
            "   19    S    19\n",
            "   20    T    20\n",
            "   21    U    21\n",
            "   22    V    22\n",
            "   23    W    23\n"
          ]
        }
      ]
    }
  ]
}